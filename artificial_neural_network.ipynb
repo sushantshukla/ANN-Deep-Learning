{
 "cells": [
  {
   "cell_type": "markdown",
   "metadata": {
    "colab_type": "text",
    "id": "lP6JLo1tGNBg"
   },
   "source": [
    "# Artificial Neural Network"
   ]
  },
  {
   "cell_type": "markdown",
   "metadata": {
    "colab_type": "text",
    "id": "gWZyYmS_UE_L"
   },
   "source": [
    "### Importing the libraries"
   ]
  },
  {
   "cell_type": "code",
   "execution_count": 1,
   "metadata": {
    "colab": {},
    "colab_type": "code",
    "id": "MxkJoQBkUIHC"
   },
   "outputs": [],
   "source": [
    "import numpy as np\n",
    "import pandas as pd\n",
    "import tensorflow as tf"
   ]
  },
  {
   "cell_type": "code",
   "execution_count": 2,
   "metadata": {
    "colab": {
     "base_uri": "https://localhost:8080/",
     "height": 34
    },
    "colab_type": "code",
    "executionInfo": {
     "elapsed": 2787,
     "status": "ok",
     "timestamp": 1586428376540,
     "user": {
      "displayName": "Hadelin de Ponteves",
      "photoUrl": "https://lh3.googleusercontent.com/a-/AOh14GhEuXdT7eQweUmRPW8_laJuPggSK6hfvpl5a6WBaA=s64",
      "userId": "15047218817161520419"
     },
     "user_tz": -240
    },
    "id": "ZaTwK7ojXr2F",
    "outputId": "9991cc2b-cd5d-4e1e-c681-d32b9f4faa9a"
   },
   "outputs": [
    {
     "data": {
      "text/plain": [
       "'2.0.0'"
      ]
     },
     "execution_count": 2,
     "metadata": {},
     "output_type": "execute_result"
    }
   ],
   "source": [
    "tf.__version__"
   ]
  },
  {
   "cell_type": "markdown",
   "metadata": {
    "colab_type": "text",
    "id": "1E0Q3aoKUCRX"
   },
   "source": [
    "## Part 1 - Data Preprocessing"
   ]
  },
  {
   "cell_type": "markdown",
   "metadata": {
    "colab_type": "text",
    "id": "cKWAkFVGUU0Z"
   },
   "source": [
    "### Importing the dataset"
   ]
  },
  {
   "cell_type": "code",
   "execution_count": 7,
   "metadata": {
    "colab": {},
    "colab_type": "code",
    "id": "MXUkhkMfU4wq"
   },
   "outputs": [],
   "source": [
    "dataset = pd.read_csv('Churn_Modelling.csv')\n",
    "X = dataset.iloc[:, 3:-1].values\n",
    "y = dataset.iloc[:, -1].values"
   ]
  },
  {
   "cell_type": "markdown",
   "metadata": {},
   "source": [
    "#X: independent variables\n",
    "#y:will exit or not--dependent variable"
   ]
  },
  {
   "cell_type": "code",
   "execution_count": 8,
   "metadata": {},
   "outputs": [
    {
     "data": {
      "text/html": [
       "<div>\n",
       "<style scoped>\n",
       "    .dataframe tbody tr th:only-of-type {\n",
       "        vertical-align: middle;\n",
       "    }\n",
       "\n",
       "    .dataframe tbody tr th {\n",
       "        vertical-align: top;\n",
       "    }\n",
       "\n",
       "    .dataframe thead th {\n",
       "        text-align: right;\n",
       "    }\n",
       "</style>\n",
       "<table border=\"1\" class=\"dataframe\">\n",
       "  <thead>\n",
       "    <tr style=\"text-align: right;\">\n",
       "      <th></th>\n",
       "      <th>RowNumber</th>\n",
       "      <th>CustomerId</th>\n",
       "      <th>Surname</th>\n",
       "      <th>CreditScore</th>\n",
       "      <th>Geography</th>\n",
       "      <th>Gender</th>\n",
       "      <th>Age</th>\n",
       "      <th>Tenure</th>\n",
       "      <th>Balance</th>\n",
       "      <th>NumOfProducts</th>\n",
       "      <th>HasCrCard</th>\n",
       "      <th>IsActiveMember</th>\n",
       "      <th>EstimatedSalary</th>\n",
       "      <th>Exited</th>\n",
       "    </tr>\n",
       "  </thead>\n",
       "  <tbody>\n",
       "    <tr>\n",
       "      <th>0</th>\n",
       "      <td>1</td>\n",
       "      <td>15634602</td>\n",
       "      <td>Hargrave</td>\n",
       "      <td>619</td>\n",
       "      <td>France</td>\n",
       "      <td>Female</td>\n",
       "      <td>42</td>\n",
       "      <td>2</td>\n",
       "      <td>0.00</td>\n",
       "      <td>1</td>\n",
       "      <td>1</td>\n",
       "      <td>1</td>\n",
       "      <td>101348.88</td>\n",
       "      <td>1</td>\n",
       "    </tr>\n",
       "    <tr>\n",
       "      <th>1</th>\n",
       "      <td>2</td>\n",
       "      <td>15647311</td>\n",
       "      <td>Hill</td>\n",
       "      <td>608</td>\n",
       "      <td>Spain</td>\n",
       "      <td>Female</td>\n",
       "      <td>41</td>\n",
       "      <td>1</td>\n",
       "      <td>83807.86</td>\n",
       "      <td>1</td>\n",
       "      <td>0</td>\n",
       "      <td>1</td>\n",
       "      <td>112542.58</td>\n",
       "      <td>0</td>\n",
       "    </tr>\n",
       "    <tr>\n",
       "      <th>2</th>\n",
       "      <td>3</td>\n",
       "      <td>15619304</td>\n",
       "      <td>Onio</td>\n",
       "      <td>502</td>\n",
       "      <td>France</td>\n",
       "      <td>Female</td>\n",
       "      <td>42</td>\n",
       "      <td>8</td>\n",
       "      <td>159660.80</td>\n",
       "      <td>3</td>\n",
       "      <td>1</td>\n",
       "      <td>0</td>\n",
       "      <td>113931.57</td>\n",
       "      <td>1</td>\n",
       "    </tr>\n",
       "    <tr>\n",
       "      <th>3</th>\n",
       "      <td>4</td>\n",
       "      <td>15701354</td>\n",
       "      <td>Boni</td>\n",
       "      <td>699</td>\n",
       "      <td>France</td>\n",
       "      <td>Female</td>\n",
       "      <td>39</td>\n",
       "      <td>1</td>\n",
       "      <td>0.00</td>\n",
       "      <td>2</td>\n",
       "      <td>0</td>\n",
       "      <td>0</td>\n",
       "      <td>93826.63</td>\n",
       "      <td>0</td>\n",
       "    </tr>\n",
       "    <tr>\n",
       "      <th>4</th>\n",
       "      <td>5</td>\n",
       "      <td>15737888</td>\n",
       "      <td>Mitchell</td>\n",
       "      <td>850</td>\n",
       "      <td>Spain</td>\n",
       "      <td>Female</td>\n",
       "      <td>43</td>\n",
       "      <td>2</td>\n",
       "      <td>125510.82</td>\n",
       "      <td>1</td>\n",
       "      <td>1</td>\n",
       "      <td>1</td>\n",
       "      <td>79084.10</td>\n",
       "      <td>0</td>\n",
       "    </tr>\n",
       "    <tr>\n",
       "      <th>...</th>\n",
       "      <td>...</td>\n",
       "      <td>...</td>\n",
       "      <td>...</td>\n",
       "      <td>...</td>\n",
       "      <td>...</td>\n",
       "      <td>...</td>\n",
       "      <td>...</td>\n",
       "      <td>...</td>\n",
       "      <td>...</td>\n",
       "      <td>...</td>\n",
       "      <td>...</td>\n",
       "      <td>...</td>\n",
       "      <td>...</td>\n",
       "      <td>...</td>\n",
       "    </tr>\n",
       "    <tr>\n",
       "      <th>9995</th>\n",
       "      <td>9996</td>\n",
       "      <td>15606229</td>\n",
       "      <td>Obijiaku</td>\n",
       "      <td>771</td>\n",
       "      <td>France</td>\n",
       "      <td>Male</td>\n",
       "      <td>39</td>\n",
       "      <td>5</td>\n",
       "      <td>0.00</td>\n",
       "      <td>2</td>\n",
       "      <td>1</td>\n",
       "      <td>0</td>\n",
       "      <td>96270.64</td>\n",
       "      <td>0</td>\n",
       "    </tr>\n",
       "    <tr>\n",
       "      <th>9996</th>\n",
       "      <td>9997</td>\n",
       "      <td>15569892</td>\n",
       "      <td>Johnstone</td>\n",
       "      <td>516</td>\n",
       "      <td>France</td>\n",
       "      <td>Male</td>\n",
       "      <td>35</td>\n",
       "      <td>10</td>\n",
       "      <td>57369.61</td>\n",
       "      <td>1</td>\n",
       "      <td>1</td>\n",
       "      <td>1</td>\n",
       "      <td>101699.77</td>\n",
       "      <td>0</td>\n",
       "    </tr>\n",
       "    <tr>\n",
       "      <th>9997</th>\n",
       "      <td>9998</td>\n",
       "      <td>15584532</td>\n",
       "      <td>Liu</td>\n",
       "      <td>709</td>\n",
       "      <td>France</td>\n",
       "      <td>Female</td>\n",
       "      <td>36</td>\n",
       "      <td>7</td>\n",
       "      <td>0.00</td>\n",
       "      <td>1</td>\n",
       "      <td>0</td>\n",
       "      <td>1</td>\n",
       "      <td>42085.58</td>\n",
       "      <td>1</td>\n",
       "    </tr>\n",
       "    <tr>\n",
       "      <th>9998</th>\n",
       "      <td>9999</td>\n",
       "      <td>15682355</td>\n",
       "      <td>Sabbatini</td>\n",
       "      <td>772</td>\n",
       "      <td>Germany</td>\n",
       "      <td>Male</td>\n",
       "      <td>42</td>\n",
       "      <td>3</td>\n",
       "      <td>75075.31</td>\n",
       "      <td>2</td>\n",
       "      <td>1</td>\n",
       "      <td>0</td>\n",
       "      <td>92888.52</td>\n",
       "      <td>1</td>\n",
       "    </tr>\n",
       "    <tr>\n",
       "      <th>9999</th>\n",
       "      <td>10000</td>\n",
       "      <td>15628319</td>\n",
       "      <td>Walker</td>\n",
       "      <td>792</td>\n",
       "      <td>France</td>\n",
       "      <td>Female</td>\n",
       "      <td>28</td>\n",
       "      <td>4</td>\n",
       "      <td>130142.79</td>\n",
       "      <td>1</td>\n",
       "      <td>1</td>\n",
       "      <td>0</td>\n",
       "      <td>38190.78</td>\n",
       "      <td>0</td>\n",
       "    </tr>\n",
       "  </tbody>\n",
       "</table>\n",
       "<p>10000 rows × 14 columns</p>\n",
       "</div>"
      ],
      "text/plain": [
       "      RowNumber  CustomerId    Surname  CreditScore Geography  Gender  Age  \\\n",
       "0             1    15634602   Hargrave          619    France  Female   42   \n",
       "1             2    15647311       Hill          608     Spain  Female   41   \n",
       "2             3    15619304       Onio          502    France  Female   42   \n",
       "3             4    15701354       Boni          699    France  Female   39   \n",
       "4             5    15737888   Mitchell          850     Spain  Female   43   \n",
       "...         ...         ...        ...          ...       ...     ...  ...   \n",
       "9995       9996    15606229   Obijiaku          771    France    Male   39   \n",
       "9996       9997    15569892  Johnstone          516    France    Male   35   \n",
       "9997       9998    15584532        Liu          709    France  Female   36   \n",
       "9998       9999    15682355  Sabbatini          772   Germany    Male   42   \n",
       "9999      10000    15628319     Walker          792    France  Female   28   \n",
       "\n",
       "      Tenure    Balance  NumOfProducts  HasCrCard  IsActiveMember  \\\n",
       "0          2       0.00              1          1               1   \n",
       "1          1   83807.86              1          0               1   \n",
       "2          8  159660.80              3          1               0   \n",
       "3          1       0.00              2          0               0   \n",
       "4          2  125510.82              1          1               1   \n",
       "...      ...        ...            ...        ...             ...   \n",
       "9995       5       0.00              2          1               0   \n",
       "9996      10   57369.61              1          1               1   \n",
       "9997       7       0.00              1          0               1   \n",
       "9998       3   75075.31              2          1               0   \n",
       "9999       4  130142.79              1          1               0   \n",
       "\n",
       "      EstimatedSalary  Exited  \n",
       "0           101348.88       1  \n",
       "1           112542.58       0  \n",
       "2           113931.57       1  \n",
       "3            93826.63       0  \n",
       "4            79084.10       0  \n",
       "...               ...     ...  \n",
       "9995         96270.64       0  \n",
       "9996        101699.77       0  \n",
       "9997         42085.58       1  \n",
       "9998         92888.52       1  \n",
       "9999         38190.78       0  \n",
       "\n",
       "[10000 rows x 14 columns]"
      ]
     },
     "execution_count": 8,
     "metadata": {},
     "output_type": "execute_result"
    }
   ],
   "source": [
    "dataset"
   ]
  },
  {
   "cell_type": "code",
   "execution_count": 11,
   "metadata": {
    "colab": {
     "base_uri": "https://localhost:8080/",
     "height": 134
    },
    "colab_type": "code",
    "executionInfo": {
     "elapsed": 2782,
     "status": "ok",
     "timestamp": 1586428376541,
     "user": {
      "displayName": "Hadelin de Ponteves",
      "photoUrl": "https://lh3.googleusercontent.com/a-/AOh14GhEuXdT7eQweUmRPW8_laJuPggSK6hfvpl5a6WBaA=s64",
      "userId": "15047218817161520419"
     },
     "user_tz": -240
    },
    "id": "VYP9cQTWbzuI",
    "outputId": "38e3588f-f2e3-436b-bdc5-2967d495155c"
   },
   "outputs": [
    {
     "name": "stdout",
     "output_type": "stream",
     "text": [
      "[[619 'France' 'Female' ... 1 1 101348.88]\n",
      " [608 'Spain' 'Female' ... 0 1 112542.58]\n",
      " [502 'France' 'Female' ... 1 0 113931.57]\n",
      " ...\n",
      " [709 'France' 'Female' ... 0 1 42085.58]\n",
      " [772 'Germany' 'Male' ... 1 0 92888.52]\n",
      " [792 'France' 'Female' ... 1 0 38190.78]]\n"
     ]
    }
   ],
   "source": [
    "print(X)"
   ]
  },
  {
   "cell_type": "code",
   "execution_count": 12,
   "metadata": {
    "colab": {
     "base_uri": "https://localhost:8080/",
     "height": 34
    },
    "colab_type": "code",
    "executionInfo": {
     "elapsed": 2780,
     "status": "ok",
     "timestamp": 1586428376541,
     "user": {
      "displayName": "Hadelin de Ponteves",
      "photoUrl": "https://lh3.googleusercontent.com/a-/AOh14GhEuXdT7eQweUmRPW8_laJuPggSK6hfvpl5a6WBaA=s64",
      "userId": "15047218817161520419"
     },
     "user_tz": -240
    },
    "id": "38vKGE6Nb2RR",
    "outputId": "2abeb945-135e-460f-99e9-9967abe198d1"
   },
   "outputs": [
    {
     "name": "stdout",
     "output_type": "stream",
     "text": [
      "[1 0 1 ... 1 1 0]\n"
     ]
    }
   ],
   "source": [
    "print(y)"
   ]
  },
  {
   "cell_type": "markdown",
   "metadata": {
    "colab_type": "text",
    "id": "N6bQ0UgSU-NJ"
   },
   "source": [
    "### Encoding categorical data"
   ]
  },
  {
   "cell_type": "markdown",
   "metadata": {
    "colab_type": "text",
    "id": "le5MJreAbW52"
   },
   "source": [
    "Label Encoding the \"Gender\" column"
   ]
  },
  {
   "cell_type": "code",
   "execution_count": 13,
   "metadata": {
    "colab": {},
    "colab_type": "code",
    "id": "PxVKWXxLbczC"
   },
   "outputs": [],
   "source": [
    "from sklearn.preprocessing import LabelEncoder\n",
    "le = LabelEncoder()\n",
    "X[:, 2] = le.fit_transform(X[:, 2])"
   ]
  },
  {
   "cell_type": "code",
   "execution_count": 14,
   "metadata": {
    "colab": {
     "base_uri": "https://localhost:8080/",
     "height": 134
    },
    "colab_type": "code",
    "executionInfo": {
     "elapsed": 2775,
     "status": "ok",
     "timestamp": 1586428376542,
     "user": {
      "displayName": "Hadelin de Ponteves",
      "photoUrl": "https://lh3.googleusercontent.com/a-/AOh14GhEuXdT7eQweUmRPW8_laJuPggSK6hfvpl5a6WBaA=s64",
      "userId": "15047218817161520419"
     },
     "user_tz": -240
    },
    "id": "-M1KboxFb6OO",
    "outputId": "c7b742e2-7afb-4fb9-c6b4-ffeb3c4812f1"
   },
   "outputs": [
    {
     "name": "stdout",
     "output_type": "stream",
     "text": [
      "[[619 'France' 0 ... 1 1 101348.88]\n",
      " [608 'Spain' 0 ... 0 1 112542.58]\n",
      " [502 'France' 0 ... 1 0 113931.57]\n",
      " ...\n",
      " [709 'France' 0 ... 0 1 42085.58]\n",
      " [772 'Germany' 1 ... 1 0 92888.52]\n",
      " [792 'France' 0 ... 1 0 38190.78]]\n"
     ]
    }
   ],
   "source": [
    "print(X)"
   ]
  },
  {
   "cell_type": "markdown",
   "metadata": {
    "colab_type": "text",
    "id": "CUxGZezpbMcb"
   },
   "source": [
    "One Hot Encoding the \"Geography\" column"
   ]
  },
  {
   "cell_type": "code",
   "execution_count": 15,
   "metadata": {
    "colab": {},
    "colab_type": "code",
    "id": "AMXC8-KMVirw"
   },
   "outputs": [],
   "source": [
    "from sklearn.compose import ColumnTransformer\n",
    "from sklearn.preprocessing import OneHotEncoder\n",
    "ct = ColumnTransformer(transformers=[('encoder', OneHotEncoder(), [1])], remainder='passthrough')\n",
    "X = np.array(ct.fit_transform(X))"
   ]
  },
  {
   "cell_type": "code",
   "execution_count": 16,
   "metadata": {
    "colab": {
     "base_uri": "https://localhost:8080/",
     "height": 134
    },
    "colab_type": "code",
    "executionInfo": {
     "elapsed": 2768,
     "status": "ok",
     "timestamp": 1586428376543,
     "user": {
      "displayName": "Hadelin de Ponteves",
      "photoUrl": "https://lh3.googleusercontent.com/a-/AOh14GhEuXdT7eQweUmRPW8_laJuPggSK6hfvpl5a6WBaA=s64",
      "userId": "15047218817161520419"
     },
     "user_tz": -240
    },
    "id": "ZcxwEon-b8nV",
    "outputId": "9c88c069-f799-4e3b-be4b-24d8e17611fd"
   },
   "outputs": [
    {
     "name": "stdout",
     "output_type": "stream",
     "text": [
      "[[1.0 0.0 0.0 ... 1 1 101348.88]\n",
      " [0.0 0.0 1.0 ... 0 1 112542.58]\n",
      " [1.0 0.0 0.0 ... 1 0 113931.57]\n",
      " ...\n",
      " [1.0 0.0 0.0 ... 0 1 42085.58]\n",
      " [0.0 1.0 0.0 ... 1 0 92888.52]\n",
      " [1.0 0.0 0.0 ... 1 0 38190.78]]\n"
     ]
    }
   ],
   "source": [
    "print(X)"
   ]
  },
  {
   "cell_type": "markdown",
   "metadata": {
    "colab_type": "text",
    "id": "RE_FcHyfV3TQ"
   },
   "source": [
    "### Feature Scaling"
   ]
  },
  {
   "cell_type": "code",
   "execution_count": 17,
   "metadata": {
    "colab": {},
    "colab_type": "code",
    "id": "ViCrE00rV8Sk"
   },
   "outputs": [],
   "source": [
    "from sklearn.preprocessing import StandardScaler\n",
    "sc = StandardScaler()\n",
    "X = sc.fit_transform(X)"
   ]
  },
  {
   "cell_type": "code",
   "execution_count": 18,
   "metadata": {
    "colab": {
     "base_uri": "https://localhost:8080/",
     "height": 235
    },
    "colab_type": "code",
    "executionInfo": {
     "elapsed": 2760,
     "status": "ok",
     "timestamp": 1586428376544,
     "user": {
      "displayName": "Hadelin de Ponteves",
      "photoUrl": "https://lh3.googleusercontent.com/a-/AOh14GhEuXdT7eQweUmRPW8_laJuPggSK6hfvpl5a6WBaA=s64",
      "userId": "15047218817161520419"
     },
     "user_tz": -240
    },
    "id": "De3UsJwXdfMz",
    "outputId": "dde0e114-7250-42b5-d54d-047faebba5e1"
   },
   "outputs": [
    {
     "name": "stdout",
     "output_type": "stream",
     "text": [
      "[[ 0.99720391 -0.57873591 -0.57380915 ...  0.64609167  0.97024255\n",
      "   0.02188649]\n",
      " [-1.00280393 -0.57873591  1.74273971 ... -1.54776799  0.97024255\n",
      "   0.21653375]\n",
      " [ 0.99720391 -0.57873591 -0.57380915 ...  0.64609167 -1.03067011\n",
      "   0.2406869 ]\n",
      " ...\n",
      " [ 0.99720391 -0.57873591 -0.57380915 ... -1.54776799  0.97024255\n",
      "  -1.00864308]\n",
      " [-1.00280393  1.72790383 -0.57380915 ...  0.64609167 -1.03067011\n",
      "  -0.12523071]\n",
      " [ 0.99720391 -0.57873591 -0.57380915 ...  0.64609167 -1.03067011\n",
      "  -1.07636976]]\n"
     ]
    }
   ],
   "source": [
    "print(X)"
   ]
  },
  {
   "cell_type": "markdown",
   "metadata": {
    "colab_type": "text",
    "id": "vHol938cW8zd"
   },
   "source": [
    "### Splitting the dataset into the Training set and Test set"
   ]
  },
  {
   "cell_type": "code",
   "execution_count": 19,
   "metadata": {
    "colab": {},
    "colab_type": "code",
    "id": "Z-TDt0Y_XEfc"
   },
   "outputs": [],
   "source": [
    "from sklearn.model_selection import train_test_split\n",
    "X_train, X_test, y_train, y_test = train_test_split(X, y, test_size = 0.2, random_state = 0)"
   ]
  },
  {
   "cell_type": "markdown",
   "metadata": {
    "colab_type": "text",
    "id": "-zfEzkRVXIwF"
   },
   "source": [
    "## Part 2 - Building the ANN"
   ]
  },
  {
   "cell_type": "markdown",
   "metadata": {
    "colab_type": "text",
    "id": "KvdeScabXtlB"
   },
   "source": [
    "### Initializing the ANN"
   ]
  },
  {
   "cell_type": "code",
   "execution_count": 20,
   "metadata": {
    "colab": {},
    "colab_type": "code",
    "id": "3dtrScHxXQox"
   },
   "outputs": [],
   "source": [
    "ann = tf.keras.models.Sequential()"
   ]
  },
  {
   "cell_type": "markdown",
   "metadata": {
    "colab_type": "text",
    "id": "rP6urV6SX7kS"
   },
   "source": [
    "### Adding the input layer and the first hidden layer"
   ]
  },
  {
   "cell_type": "code",
   "execution_count": 21,
   "metadata": {
    "colab": {},
    "colab_type": "code",
    "id": "bppGycBXYCQr"
   },
   "outputs": [],
   "source": [
    "ann.add(tf.keras.layers.Dense(units=6, activation='relu'))"
   ]
  },
  {
   "cell_type": "markdown",
   "metadata": {
    "colab_type": "text",
    "id": "BELWAc_8YJze"
   },
   "source": [
    "### Adding the second hidden layer"
   ]
  },
  {
   "cell_type": "code",
   "execution_count": 22,
   "metadata": {
    "colab": {},
    "colab_type": "code",
    "id": "JneR0u0sYRTd"
   },
   "outputs": [],
   "source": [
    "ann.add(tf.keras.layers.Dense(units=6, activation='relu'))"
   ]
  },
  {
   "cell_type": "markdown",
   "metadata": {
    "colab_type": "text",
    "id": "OyNEe6RXYcU4"
   },
   "source": [
    "### Adding the output layer"
   ]
  },
  {
   "cell_type": "code",
   "execution_count": 23,
   "metadata": {
    "colab": {},
    "colab_type": "code",
    "id": "Cn3x41RBYfvY"
   },
   "outputs": [],
   "source": [
    "ann.add(tf.keras.layers.Dense(units=1, activation='sigmoid'))"
   ]
  },
  {
   "cell_type": "markdown",
   "metadata": {
    "colab_type": "text",
    "id": "JT4u2S1_Y4WG"
   },
   "source": [
    "## Training the ANN"
   ]
  },
  {
   "cell_type": "markdown",
   "metadata": {
    "colab_type": "text",
    "id": "8GWlJChhY_ZI"
   },
   "source": [
    "### Compiling the ANN"
   ]
  },
  {
   "cell_type": "code",
   "execution_count": 24,
   "metadata": {
    "colab": {},
    "colab_type": "code",
    "id": "fG3RrwDXZEaS"
   },
   "outputs": [],
   "source": [
    "ann.compile(optimizer = 'adam', loss = 'binary_crossentropy', metrics = ['accuracy'])"
   ]
  },
  {
   "cell_type": "markdown",
   "metadata": {
    "colab_type": "text",
    "id": "0QR_G5u7ZLSM"
   },
   "source": [
    "### Training the ANN on the Training set"
   ]
  },
  {
   "cell_type": "code",
   "execution_count": 26,
   "metadata": {
    "colab": {
     "base_uri": "https://localhost:8080/",
     "height": 1000
    },
    "colab_type": "code",
    "executionInfo": {
     "elapsed": 31750,
     "status": "ok",
     "timestamp": 1586428405580,
     "user": {
      "displayName": "Hadelin de Ponteves",
      "photoUrl": "https://lh3.googleusercontent.com/a-/AOh14GhEuXdT7eQweUmRPW8_laJuPggSK6hfvpl5a6WBaA=s64",
      "userId": "15047218817161520419"
     },
     "user_tz": -240
    },
    "id": "nHZ-LKv_ZRb3",
    "outputId": "6a90f176-803d-4b03-e65f-c05bda6f519c"
   },
   "outputs": [
    {
     "name": "stdout",
     "output_type": "stream",
     "text": [
      "Train on 8000 samples\n",
      "Epoch 1/100\n",
      "8000/8000 [==============================] - 0s 60us/sample - loss: 0.4040 - accuracy: 0.8334\n",
      "Epoch 2/100\n",
      "8000/8000 [==============================] - 0s 55us/sample - loss: 0.4030 - accuracy: 0.8345\n",
      "Epoch 3/100\n",
      "8000/8000 [==============================] - 0s 55us/sample - loss: 0.4022 - accuracy: 0.8341\n",
      "Epoch 4/100\n",
      "8000/8000 [==============================] - 0s 58us/sample - loss: 0.4015 - accuracy: 0.8350\n",
      "Epoch 5/100\n",
      "8000/8000 [==============================] - 0s 54us/sample - loss: 0.4007 - accuracy: 0.8360\n",
      "Epoch 6/100\n",
      "8000/8000 [==============================] - 1s 64us/sample - loss: 0.4002 - accuracy: 0.8355\n",
      "Epoch 7/100\n",
      "8000/8000 [==============================] - 1s 65us/sample - loss: 0.3993 - accuracy: 0.8360\n",
      "Epoch 8/100\n",
      "8000/8000 [==============================] - 0s 60us/sample - loss: 0.3988 - accuracy: 0.8360\n",
      "Epoch 9/100\n",
      "8000/8000 [==============================] - 0s 52us/sample - loss: 0.3980 - accuracy: 0.8363\n",
      "Epoch 10/100\n",
      "8000/8000 [==============================] - 0s 53us/sample - loss: 0.3973 - accuracy: 0.8345\n",
      "Epoch 11/100\n",
      "8000/8000 [==============================] - ETA: 0s - loss: 0.3950 - accuracy: 0.83 - 0s 58us/sample - loss: 0.3959 - accuracy: 0.8378\n",
      "Epoch 12/100\n",
      "8000/8000 [==============================] - 0s 53us/sample - loss: 0.3949 - accuracy: 0.8382\n",
      "Epoch 13/100\n",
      "8000/8000 [==============================] - 0s 60us/sample - loss: 0.3932 - accuracy: 0.8374\n",
      "Epoch 14/100\n",
      "8000/8000 [==============================] - 0s 54us/sample - loss: 0.3913 - accuracy: 0.8378\n",
      "Epoch 15/100\n",
      "8000/8000 [==============================] - 0s 60us/sample - loss: 0.3896 - accuracy: 0.8396\n",
      "Epoch 16/100\n",
      "8000/8000 [==============================] - 0s 56us/sample - loss: 0.3875 - accuracy: 0.8397\n",
      "Epoch 17/100\n",
      "8000/8000 [==============================] - 0s 54us/sample - loss: 0.3853 - accuracy: 0.8407\n",
      "Epoch 18/100\n",
      "8000/8000 [==============================] - 0s 56us/sample - loss: 0.3834 - accuracy: 0.8416\n",
      "Epoch 19/100\n",
      "8000/8000 [==============================] - 0s 55us/sample - loss: 0.3809 - accuracy: 0.8394\n",
      "Epoch 20/100\n",
      "8000/8000 [==============================] - 0s 58us/sample - loss: 0.3789 - accuracy: 0.8413\n",
      "Epoch 21/100\n",
      "8000/8000 [==============================] - 0s 58us/sample - loss: 0.3763 - accuracy: 0.8429\n",
      "Epoch 22/100\n",
      "8000/8000 [==============================] - 1s 65us/sample - loss: 0.3743 - accuracy: 0.8443\n",
      "Epoch 23/100\n",
      "8000/8000 [==============================] - 0s 54us/sample - loss: 0.3719 - accuracy: 0.8444\n",
      "Epoch 24/100\n",
      "8000/8000 [==============================] - 0s 54us/sample - loss: 0.3697 - accuracy: 0.8461\n",
      "Epoch 25/100\n",
      "8000/8000 [==============================] - 0s 59us/sample - loss: 0.3679 - accuracy: 0.8476\n",
      "Epoch 26/100\n",
      "8000/8000 [==============================] - 0s 55us/sample - loss: 0.3651 - accuracy: 0.8482\n",
      "Epoch 27/100\n",
      "8000/8000 [==============================] - 0s 57us/sample - loss: 0.3640 - accuracy: 0.8491\n",
      "Epoch 28/100\n",
      "8000/8000 [==============================] - 0s 53us/sample - loss: 0.3619 - accuracy: 0.8503\n",
      "Epoch 29/100\n",
      "8000/8000 [==============================] - 0s 58us/sample - loss: 0.3602 - accuracy: 0.8503\n",
      "Epoch 30/100\n",
      "8000/8000 [==============================] - 0s 53us/sample - loss: 0.3585 - accuracy: 0.8504\n",
      "Epoch 31/100\n",
      "8000/8000 [==============================] - 0s 55us/sample - loss: 0.3574 - accuracy: 0.8512\n",
      "Epoch 32/100\n",
      "8000/8000 [==============================] - 0s 57us/sample - loss: 0.3558 - accuracy: 0.8525\n",
      "Epoch 33/100\n",
      "8000/8000 [==============================] - 0s 55us/sample - loss: 0.3547 - accuracy: 0.8537\n",
      "Epoch 34/100\n",
      "8000/8000 [==============================] - 0s 57us/sample - loss: 0.3536 - accuracy: 0.8529\n",
      "Epoch 35/100\n",
      "8000/8000 [==============================] - 0s 54us/sample - loss: 0.3532 - accuracy: 0.8541\n",
      "Epoch 36/100\n",
      "8000/8000 [==============================] - 0s 54us/sample - loss: 0.3523 - accuracy: 0.8546\n",
      "Epoch 37/100\n",
      "8000/8000 [==============================] - 0s 57us/sample - loss: 0.3513 - accuracy: 0.8564\n",
      "Epoch 38/100\n",
      "8000/8000 [==============================] - 0s 53us/sample - loss: 0.3512 - accuracy: 0.8560\n",
      "Epoch 39/100\n",
      "8000/8000 [==============================] - 0s 58us/sample - loss: 0.3500 - accuracy: 0.8555\n",
      "Epoch 40/100\n",
      "8000/8000 [==============================] - 0s 54us/sample - loss: 0.3500 - accuracy: 0.8551\n",
      "Epoch 41/100\n",
      "8000/8000 [==============================] - 0s 58us/sample - loss: 0.3492 - accuracy: 0.8556\n",
      "Epoch 42/100\n",
      "8000/8000 [==============================] - 0s 56us/sample - loss: 0.3480 - accuracy: 0.8543\n",
      "Epoch 43/100\n",
      "8000/8000 [==============================] - 0s 54us/sample - loss: 0.3479 - accuracy: 0.8554\n",
      "Epoch 44/100\n",
      "8000/8000 [==============================] - 1s 70us/sample - loss: 0.3472 - accuracy: 0.8575\n",
      "Epoch 45/100\n",
      "8000/8000 [==============================] - 1s 65us/sample - loss: 0.3468 - accuracy: 0.8549\n",
      "Epoch 46/100\n",
      "8000/8000 [==============================] - 0s 57us/sample - loss: 0.3463 - accuracy: 0.8558\n",
      "Epoch 47/100\n",
      "8000/8000 [==============================] - 0s 53us/sample - loss: 0.3453 - accuracy: 0.8585\n",
      "Epoch 48/100\n",
      "8000/8000 [==============================] - 0s 56us/sample - loss: 0.3453 - accuracy: 0.8569\n",
      "Epoch 49/100\n",
      "8000/8000 [==============================] - 0s 53us/sample - loss: 0.3454 - accuracy: 0.8579\n",
      "Epoch 50/100\n",
      "8000/8000 [==============================] - 0s 58us/sample - loss: 0.3443 - accuracy: 0.8580\n",
      "Epoch 51/100\n",
      "8000/8000 [==============================] - 0s 56us/sample - loss: 0.3445 - accuracy: 0.8553\n",
      "Epoch 52/100\n",
      "8000/8000 [==============================] - 0s 54us/sample - loss: 0.3445 - accuracy: 0.8553\n",
      "Epoch 53/100\n",
      "8000/8000 [==============================] - 0s 58us/sample - loss: 0.3430 - accuracy: 0.8590\n",
      "Epoch 54/100\n",
      "8000/8000 [==============================] - 0s 56us/sample - loss: 0.3429 - accuracy: 0.8569\n",
      "Epoch 55/100\n",
      "8000/8000 [==============================] - 0s 59us/sample - loss: 0.3429 - accuracy: 0.8604\n",
      "Epoch 56/100\n",
      "8000/8000 [==============================] - 0s 53us/sample - loss: 0.3423 - accuracy: 0.8593\n",
      "Epoch 57/100\n",
      "8000/8000 [==============================] - 0s 54us/sample - loss: 0.3420 - accuracy: 0.8583\n",
      "Epoch 58/100\n",
      "8000/8000 [==============================] - 0s 57us/sample - loss: 0.3416 - accuracy: 0.8589\n",
      "Epoch 59/100\n",
      "8000/8000 [==============================] - 0s 54us/sample - loss: 0.3413 - accuracy: 0.8585\n",
      "Epoch 60/100\n",
      "8000/8000 [==============================] - 0s 58us/sample - loss: 0.3414 - accuracy: 0.8585\n",
      "Epoch 61/100\n",
      "8000/8000 [==============================] - 0s 54us/sample - loss: 0.3408 - accuracy: 0.8585\n",
      "Epoch 62/100\n",
      "8000/8000 [==============================] - 0s 58us/sample - loss: 0.3402 - accuracy: 0.8581\n",
      "Epoch 63/100\n",
      "8000/8000 [==============================] - 0s 54us/sample - loss: 0.3408 - accuracy: 0.8597\n",
      "Epoch 64/100\n",
      "8000/8000 [==============================] - 0s 53us/sample - loss: 0.3403 - accuracy: 0.8594\n",
      "Epoch 65/100\n",
      "8000/8000 [==============================] - 0s 58us/sample - loss: 0.3404 - accuracy: 0.8605\n",
      "Epoch 66/100\n",
      "8000/8000 [==============================] - 0s 53us/sample - loss: 0.3386 - accuracy: 0.8604\n",
      "Epoch 67/100\n",
      "8000/8000 [==============================] - 0s 56us/sample - loss: 0.3392 - accuracy: 0.8602\n",
      "Epoch 68/100\n",
      "8000/8000 [==============================] - 0s 56us/sample - loss: 0.3387 - accuracy: 0.8599\n",
      "Epoch 69/100\n",
      "8000/8000 [==============================] - 0s 59us/sample - loss: 0.3393 - accuracy: 0.8630\n",
      "Epoch 70/100\n",
      "8000/8000 [==============================] - 0s 54us/sample - loss: 0.3385 - accuracy: 0.8604\n",
      "Epoch 71/100\n",
      "8000/8000 [==============================] - 0s 55us/sample - loss: 0.3388 - accuracy: 0.8606\n",
      "Epoch 72/100\n",
      "8000/8000 [==============================] - 0s 57us/sample - loss: 0.3385 - accuracy: 0.8609\n",
      "Epoch 73/100\n",
      "8000/8000 [==============================] - 0s 54us/sample - loss: 0.3383 - accuracy: 0.8602\n",
      "Epoch 74/100\n",
      "8000/8000 [==============================] - 0s 60us/sample - loss: 0.3380 - accuracy: 0.8610\n",
      "Epoch 75/100\n",
      "8000/8000 [==============================] - 0s 54us/sample - loss: 0.3383 - accuracy: 0.8611\n",
      "Epoch 76/100\n",
      "8000/8000 [==============================] - 0s 53us/sample - loss: 0.3379 - accuracy: 0.8609\n",
      "Epoch 77/100\n",
      "8000/8000 [==============================] - 0s 53us/sample - loss: 0.3369 - accuracy: 0.8640\n",
      "Epoch 78/100\n",
      "8000/8000 [==============================] - 0s 50us/sample - loss: 0.3376 - accuracy: 0.8631\n",
      "Epoch 79/100\n",
      "8000/8000 [==============================] - 0s 53us/sample - loss: 0.3378 - accuracy: 0.8618\n",
      "Epoch 80/100\n",
      "8000/8000 [==============================] - 0s 51us/sample - loss: 0.3381 - accuracy: 0.8634\n",
      "Epoch 81/100\n",
      "8000/8000 [==============================] - 0s 51us/sample - loss: 0.3375 - accuracy: 0.8614\n",
      "Epoch 82/100\n",
      "8000/8000 [==============================] - 0s 52us/sample - loss: 0.3368 - accuracy: 0.8635\n",
      "Epoch 83/100\n",
      "8000/8000 [==============================] - 0s 50us/sample - loss: 0.3366 - accuracy: 0.8621\n",
      "Epoch 84/100\n",
      "8000/8000 [==============================] - 0s 53us/sample - loss: 0.3363 - accuracy: 0.8619\n",
      "Epoch 85/100\n",
      "8000/8000 [==============================] - 0s 51us/sample - loss: 0.3366 - accuracy: 0.8643\n",
      "Epoch 86/100\n",
      "8000/8000 [==============================] - 0s 51us/sample - loss: 0.3367 - accuracy: 0.8625\n",
      "Epoch 87/100\n",
      "8000/8000 [==============================] - 0s 54us/sample - loss: 0.3365 - accuracy: 0.8624\n",
      "Epoch 88/100\n",
      "8000/8000 [==============================] - 0s 51us/sample - loss: 0.3363 - accuracy: 0.8614\n",
      "Epoch 89/100\n",
      "8000/8000 [==============================] - 0s 54us/sample - loss: 0.3365 - accuracy: 0.8616\n",
      "Epoch 90/100\n",
      "8000/8000 [==============================] - 0s 51us/sample - loss: 0.3363 - accuracy: 0.8609\n",
      "Epoch 91/100\n",
      "8000/8000 [==============================] - 0s 51us/sample - loss: 0.3361 - accuracy: 0.8625\n",
      "Epoch 92/100\n",
      "8000/8000 [==============================] - 0s 56us/sample - loss: 0.3359 - accuracy: 0.8634\n",
      "Epoch 93/100\n",
      "8000/8000 [==============================] - 0s 52us/sample - loss: 0.3357 - accuracy: 0.8605\n",
      "Epoch 94/100\n",
      "8000/8000 [==============================] - 0s 55us/sample - loss: 0.3360 - accuracy: 0.8641\n",
      "Epoch 95/100\n",
      "8000/8000 [==============================] - 0s 53us/sample - loss: 0.3357 - accuracy: 0.8614\n",
      "Epoch 96/100\n",
      "8000/8000 [==============================] - 0s 51us/sample - loss: 0.3358 - accuracy: 0.8604\n",
      "Epoch 97/100\n",
      "8000/8000 [==============================] - 0s 55us/sample - loss: 0.3355 - accuracy: 0.8627\n",
      "Epoch 98/100\n",
      "8000/8000 [==============================] - 1s 64us/sample - loss: 0.3351 - accuracy: 0.8634\n",
      "Epoch 99/100\n",
      "8000/8000 [==============================] - 1s 65us/sample - loss: 0.3361 - accuracy: 0.8616\n",
      "Epoch 100/100\n",
      "8000/8000 [==============================] - 0s 52us/sample - loss: 0.3349 - accuracy: 0.8630\n"
     ]
    },
    {
     "data": {
      "text/plain": [
       "<tensorflow.python.keras.callbacks.History at 0x1ea019b5dd8>"
      ]
     },
     "execution_count": 26,
     "metadata": {},
     "output_type": "execute_result"
    }
   ],
   "source": [
    "ann.fit(X_train, y_train, batch_size = 32, epochs = 100)"
   ]
  },
  {
   "cell_type": "markdown",
   "metadata": {
    "colab_type": "text",
    "id": "tJj5k2MxZga3"
   },
   "source": [
    "## Part 4 - Making the predictions and evaluating the model"
   ]
  },
  {
   "cell_type": "markdown",
   "metadata": {
    "colab_type": "text",
    "id": "u7yx47jPZt11"
   },
   "source": [
    "### Predicting the Test set results"
   ]
  },
  {
   "cell_type": "code",
   "execution_count": 27,
   "metadata": {
    "colab": {
     "base_uri": "https://localhost:8080/",
     "height": 134
    },
    "colab_type": "code",
    "executionInfo": {
     "elapsed": 31748,
     "status": "ok",
     "timestamp": 1586428405581,
     "user": {
      "displayName": "Hadelin de Ponteves",
      "photoUrl": "https://lh3.googleusercontent.com/a-/AOh14GhEuXdT7eQweUmRPW8_laJuPggSK6hfvpl5a6WBaA=s64",
      "userId": "15047218817161520419"
     },
     "user_tz": -240
    },
    "id": "nIyEeQdRZwgs",
    "outputId": "a0f4d9ad-9a29-41dc-b101-9e7216d74dc0"
   },
   "outputs": [
    {
     "name": "stdout",
     "output_type": "stream",
     "text": [
      "[[0 0]\n",
      " [0 1]\n",
      " [0 0]\n",
      " ...\n",
      " [0 0]\n",
      " [0 0]\n",
      " [0 0]]\n"
     ]
    }
   ],
   "source": [
    "y_pred = ann.predict(X_test)\n",
    "y_pred = (y_pred > 0.5)\n",
    "print(np.concatenate((y_pred.reshape(len(y_pred),1), y_test.reshape(len(y_test),1)),1))"
   ]
  },
  {
   "cell_type": "markdown",
   "metadata": {
    "colab_type": "text",
    "id": "o0oyfLWoaEGw"
   },
   "source": [
    "### Making the Confusion Matrix"
   ]
  },
  {
   "cell_type": "code",
   "execution_count": 28,
   "metadata": {
    "colab": {
     "base_uri": "https://localhost:8080/",
     "height": 50
    },
    "colab_type": "code",
    "executionInfo": {
     "elapsed": 31746,
     "status": "ok",
     "timestamp": 1586428405581,
     "user": {
      "displayName": "Hadelin de Ponteves",
      "photoUrl": "https://lh3.googleusercontent.com/a-/AOh14GhEuXdT7eQweUmRPW8_laJuPggSK6hfvpl5a6WBaA=s64",
      "userId": "15047218817161520419"
     },
     "user_tz": -240
    },
    "id": "ci6K_r6LaF6P",
    "outputId": "09bd315f-7091-457f-b222-ce3998de57a5"
   },
   "outputs": [
    {
     "name": "stdout",
     "output_type": "stream",
     "text": [
      "[[1522   73]\n",
      " [ 200  205]]\n"
     ]
    }
   ],
   "source": [
    "from sklearn.metrics import confusion_matrix\n",
    "cm = confusion_matrix(y_test, y_pred)\n",
    "print(cm)"
   ]
  },
  {
   "cell_type": "code",
   "execution_count": 30,
   "metadata": {},
   "outputs": [
    {
     "data": {
      "text/plain": [
       "1727"
      ]
     },
     "execution_count": 30,
     "metadata": {},
     "output_type": "execute_result"
    }
   ],
   "source": [
    "correct=1522+205\n",
    "correct"
   ]
  },
  {
   "cell_type": "code",
   "execution_count": 31,
   "metadata": {},
   "outputs": [
    {
     "data": {
      "text/plain": [
       "273"
      ]
     },
     "execution_count": 31,
     "metadata": {},
     "output_type": "execute_result"
    }
   ],
   "source": [
    "incorrect=200+73\n",
    "incorrect"
   ]
  },
  {
   "cell_type": "code",
   "execution_count": 32,
   "metadata": {},
   "outputs": [
    {
     "data": {
      "text/plain": [
       "2000"
      ]
     },
     "execution_count": 32,
     "metadata": {},
     "output_type": "execute_result"
    }
   ],
   "source": [
    "1727+273"
   ]
  },
  {
   "cell_type": "code",
   "execution_count": 33,
   "metadata": {},
   "outputs": [
    {
     "data": {
      "text/plain": [
       "86.35000000000001"
      ]
     },
     "execution_count": 33,
     "metadata": {},
     "output_type": "execute_result"
    }
   ],
   "source": [
    "Accuracy=(1727/2000)*100\n",
    "Accuracy"
   ]
  },
  {
   "cell_type": "code",
   "execution_count": null,
   "metadata": {},
   "outputs": [],
   "source": []
  }
 ],
 "metadata": {
  "colab": {
   "authorship_tag": "ABX9TyMwbl0jJoa05wuIU59y39H3",
   "collapsed_sections": [],
   "name": "Artificial Neural Network",
   "provenance": []
  },
  "kernelspec": {
   "display_name": "Python 3",
   "language": "python",
   "name": "python3"
  },
  "language_info": {
   "codemirror_mode": {
    "name": "ipython",
    "version": 3
   },
   "file_extension": ".py",
   "mimetype": "text/x-python",
   "name": "python",
   "nbconvert_exporter": "python",
   "pygments_lexer": "ipython3",
   "version": "3.7.3"
  }
 },
 "nbformat": 4,
 "nbformat_minor": 1
}
